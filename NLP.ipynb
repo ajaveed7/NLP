{
 "cells": [
  {
   "cell_type": "code",
   "execution_count": 1,
   "id": "e091d929",
   "metadata": {},
   "outputs": [],
   "source": [
    "import os\n",
    "import nltk"
   ]
  },
  {
   "cell_type": "code",
   "execution_count": 2,
   "id": "8a6a3fa4",
   "metadata": {},
   "outputs": [],
   "source": [
    "import nltk.corpus"
   ]
  },
  {
   "cell_type": "code",
   "execution_count": 3,
   "id": "547870cf",
   "metadata": {},
   "outputs": [],
   "source": [
    "AI = ''' Artificial intelligence (AI) refers to the simulation of human intelligence in machines that are programmed to think like humans and mimic their actions. The term may also be applied to any machine that exhibits traits associated with a human mind such as learning and problem-solving.\n",
    "\n",
    "The ideal characteristic of artificial intelligence is its ability to rationalize and take actions that have the best chance of achieving a specific goal. A subset of artificial intelligence is machine learning (ML), which refers to the concept that computer programs can automatically learn from and adapt to new data without being assisted by humans. Deep learning techniques enable this automatic learning through the absorption of huge amounts of unstructured data such as text, images, or video.'''"
   ]
  },
  {
   "cell_type": "code",
   "execution_count": 4,
   "id": "49827c3e",
   "metadata": {},
   "outputs": [
    {
     "data": {
      "text/plain": [
       "' Artificial intelligence (AI) refers to the simulation of human intelligence in machines that are programmed to think like humans and mimic their actions. The term may also be applied to any machine that exhibits traits associated with a human mind such as learning and problem-solving.\\n\\nThe ideal characteristic of artificial intelligence is its ability to rationalize and take actions that have the best chance of achieving a specific goal. A subset of artificial intelligence is machine learning (ML), which refers to the concept that computer programs can automatically learn from and adapt to new data without being assisted by humans. Deep learning techniques enable this automatic learning through the absorption of huge amounts of unstructured data such as text, images, or video.'"
      ]
     },
     "execution_count": 4,
     "metadata": {},
     "output_type": "execute_result"
    }
   ],
   "source": [
    "AI"
   ]
  },
  {
   "cell_type": "code",
   "execution_count": 5,
   "id": "690ce457",
   "metadata": {},
   "outputs": [
    {
     "data": {
      "text/plain": [
       "str"
      ]
     },
     "execution_count": 5,
     "metadata": {},
     "output_type": "execute_result"
    }
   ],
   "source": [
    "type(AI)"
   ]
  },
  {
   "cell_type": "markdown",
   "id": "d5a9a177",
   "metadata": {},
   "source": [
    "# Tokenization"
   ]
  },
  {
   "cell_type": "code",
   "execution_count": 6,
   "id": "bb073491",
   "metadata": {},
   "outputs": [],
   "source": [
    "from nltk.tokenize import word_tokenize"
   ]
  },
  {
   "cell_type": "code",
   "execution_count": 7,
   "id": "c1f8d2d6",
   "metadata": {},
   "outputs": [],
   "source": [
    "AI_tokenize = word_tokenize(AI)"
   ]
  },
  {
   "cell_type": "code",
   "execution_count": 8,
   "id": "af5ed077",
   "metadata": {},
   "outputs": [
    {
     "data": {
      "text/plain": [
       "['Artificial',\n",
       " 'intelligence',\n",
       " '(',\n",
       " 'AI',\n",
       " ')',\n",
       " 'refers',\n",
       " 'to',\n",
       " 'the',\n",
       " 'simulation',\n",
       " 'of',\n",
       " 'human',\n",
       " 'intelligence',\n",
       " 'in',\n",
       " 'machines',\n",
       " 'that',\n",
       " 'are',\n",
       " 'programmed',\n",
       " 'to',\n",
       " 'think',\n",
       " 'like',\n",
       " 'humans',\n",
       " 'and',\n",
       " 'mimic',\n",
       " 'their',\n",
       " 'actions',\n",
       " '.',\n",
       " 'The',\n",
       " 'term',\n",
       " 'may',\n",
       " 'also',\n",
       " 'be',\n",
       " 'applied',\n",
       " 'to',\n",
       " 'any',\n",
       " 'machine',\n",
       " 'that',\n",
       " 'exhibits',\n",
       " 'traits',\n",
       " 'associated',\n",
       " 'with',\n",
       " 'a',\n",
       " 'human',\n",
       " 'mind',\n",
       " 'such',\n",
       " 'as',\n",
       " 'learning',\n",
       " 'and',\n",
       " 'problem-solving',\n",
       " '.',\n",
       " 'The',\n",
       " 'ideal',\n",
       " 'characteristic',\n",
       " 'of',\n",
       " 'artificial',\n",
       " 'intelligence',\n",
       " 'is',\n",
       " 'its',\n",
       " 'ability',\n",
       " 'to',\n",
       " 'rationalize',\n",
       " 'and',\n",
       " 'take',\n",
       " 'actions',\n",
       " 'that',\n",
       " 'have',\n",
       " 'the',\n",
       " 'best',\n",
       " 'chance',\n",
       " 'of',\n",
       " 'achieving',\n",
       " 'a',\n",
       " 'specific',\n",
       " 'goal',\n",
       " '.',\n",
       " 'A',\n",
       " 'subset',\n",
       " 'of',\n",
       " 'artificial',\n",
       " 'intelligence',\n",
       " 'is',\n",
       " 'machine',\n",
       " 'learning',\n",
       " '(',\n",
       " 'ML',\n",
       " ')',\n",
       " ',',\n",
       " 'which',\n",
       " 'refers',\n",
       " 'to',\n",
       " 'the',\n",
       " 'concept',\n",
       " 'that',\n",
       " 'computer',\n",
       " 'programs',\n",
       " 'can',\n",
       " 'automatically',\n",
       " 'learn',\n",
       " 'from',\n",
       " 'and',\n",
       " 'adapt',\n",
       " 'to',\n",
       " 'new',\n",
       " 'data',\n",
       " 'without',\n",
       " 'being',\n",
       " 'assisted',\n",
       " 'by',\n",
       " 'humans',\n",
       " '.',\n",
       " 'Deep',\n",
       " 'learning',\n",
       " 'techniques',\n",
       " 'enable',\n",
       " 'this',\n",
       " 'automatic',\n",
       " 'learning',\n",
       " 'through',\n",
       " 'the',\n",
       " 'absorption',\n",
       " 'of',\n",
       " 'huge',\n",
       " 'amounts',\n",
       " 'of',\n",
       " 'unstructured',\n",
       " 'data',\n",
       " 'such',\n",
       " 'as',\n",
       " 'text',\n",
       " ',',\n",
       " 'images',\n",
       " ',',\n",
       " 'or',\n",
       " 'video',\n",
       " '.']"
      ]
     },
     "execution_count": 8,
     "metadata": {},
     "output_type": "execute_result"
    }
   ],
   "source": [
    "AI_tokenize"
   ]
  },
  {
   "cell_type": "code",
   "execution_count": 9,
   "id": "0958a369",
   "metadata": {},
   "outputs": [
    {
     "data": {
      "text/plain": [
       "134"
      ]
     },
     "execution_count": 9,
     "metadata": {},
     "output_type": "execute_result"
    }
   ],
   "source": [
    "len(AI_tokenize)"
   ]
  },
  {
   "cell_type": "code",
   "execution_count": 10,
   "id": "a524e364",
   "metadata": {},
   "outputs": [],
   "source": [
    "from nltk.tokenize import blankline_tokenize #Give you how many paragraphs"
   ]
  },
  {
   "cell_type": "code",
   "execution_count": 11,
   "id": "4d09e3df",
   "metadata": {},
   "outputs": [],
   "source": [
    "AI_blank = blankline_tokenize(AI)"
   ]
  },
  {
   "cell_type": "code",
   "execution_count": 12,
   "id": "43697853",
   "metadata": {},
   "outputs": [
    {
     "data": {
      "text/plain": [
       "[' Artificial intelligence (AI) refers to the simulation of human intelligence in machines that are programmed to think like humans and mimic their actions. The term may also be applied to any machine that exhibits traits associated with a human mind such as learning and problem-solving.',\n",
       " 'The ideal characteristic of artificial intelligence is its ability to rationalize and take actions that have the best chance of achieving a specific goal. A subset of artificial intelligence is machine learning (ML), which refers to the concept that computer programs can automatically learn from and adapt to new data without being assisted by humans. Deep learning techniques enable this automatic learning through the absorption of huge amounts of unstructured data such as text, images, or video.']"
      ]
     },
     "execution_count": 12,
     "metadata": {},
     "output_type": "execute_result"
    }
   ],
   "source": [
    "AI_blank"
   ]
  },
  {
   "cell_type": "code",
   "execution_count": 13,
   "id": "c33195e1",
   "metadata": {},
   "outputs": [
    {
     "data": {
      "text/plain": [
       "2"
      ]
     },
     "execution_count": 13,
     "metadata": {},
     "output_type": "execute_result"
    }
   ],
   "source": [
    "len(AI_blank)"
   ]
  },
  {
   "cell_type": "code",
   "execution_count": 14,
   "id": "c24d96f3",
   "metadata": {},
   "outputs": [],
   "source": [
    "from nltk.tokenize import sent_tokenize"
   ]
  },
  {
   "cell_type": "code",
   "execution_count": 15,
   "id": "2fb13b2e",
   "metadata": {},
   "outputs": [],
   "source": [
    "AI_sent = sent_tokenize(AI)"
   ]
  },
  {
   "cell_type": "code",
   "execution_count": 16,
   "id": "4b2cd259",
   "metadata": {},
   "outputs": [
    {
     "data": {
      "text/plain": [
       "[' Artificial intelligence (AI) refers to the simulation of human intelligence in machines that are programmed to think like humans and mimic their actions.',\n",
       " 'The term may also be applied to any machine that exhibits traits associated with a human mind such as learning and problem-solving.',\n",
       " 'The ideal characteristic of artificial intelligence is its ability to rationalize and take actions that have the best chance of achieving a specific goal.',\n",
       " 'A subset of artificial intelligence is machine learning (ML), which refers to the concept that computer programs can automatically learn from and adapt to new data without being assisted by humans.',\n",
       " 'Deep learning techniques enable this automatic learning through the absorption of huge amounts of unstructured data such as text, images, or video.']"
      ]
     },
     "execution_count": 16,
     "metadata": {},
     "output_type": "execute_result"
    }
   ],
   "source": [
    "AI_sent"
   ]
  },
  {
   "cell_type": "code",
   "execution_count": 17,
   "id": "20093c69",
   "metadata": {},
   "outputs": [
    {
     "data": {
      "text/plain": [
       "5"
      ]
     },
     "execution_count": 17,
     "metadata": {},
     "output_type": "execute_result"
    }
   ],
   "source": [
    "len(AI_sent)"
   ]
  },
  {
   "cell_type": "markdown",
   "id": "ef31cd8b",
   "metadata": {},
   "source": [
    "# Bigram, TriGram, NGram"
   ]
  },
  {
   "cell_type": "code",
   "execution_count": 18,
   "id": "17b6aaf8",
   "metadata": {},
   "outputs": [],
   "source": [
    "from nltk.util import bigrams, trigrams, ngrams"
   ]
  },
  {
   "cell_type": "code",
   "execution_count": 19,
   "id": "a76a526e",
   "metadata": {},
   "outputs": [],
   "source": [
    "string = 'Artificial intelligence (AI) refers to \\nthe simulation of human intelligence in machines that are programmed to\\nthink like humans and mimic their actions. The term may also be applied to any \\nmachine that exhibits traits associated with a human mind such as learning and problem-solving.'"
   ]
  },
  {
   "cell_type": "code",
   "execution_count": 20,
   "id": "88577780",
   "metadata": {},
   "outputs": [
    {
     "data": {
      "text/plain": [
       "'Artificial intelligence (AI) refers to \\nthe simulation of human intelligence in machines that are programmed to\\nthink like humans and mimic their actions. The term may also be applied to any \\nmachine that exhibits traits associated with a human mind such as learning and problem-solving.'"
      ]
     },
     "execution_count": 20,
     "metadata": {},
     "output_type": "execute_result"
    }
   ],
   "source": [
    "string"
   ]
  },
  {
   "cell_type": "code",
   "execution_count": 21,
   "id": "367b8201",
   "metadata": {},
   "outputs": [],
   "source": [
    "quote_bi = list(nltk.bigrams(string))"
   ]
  },
  {
   "cell_type": "code",
   "execution_count": 22,
   "id": "86cf3202",
   "metadata": {},
   "outputs": [
    {
     "data": {
      "text/plain": [
       "[('A', 'r'),\n",
       " ('r', 't'),\n",
       " ('t', 'i'),\n",
       " ('i', 'f'),\n",
       " ('f', 'i'),\n",
       " ('i', 'c'),\n",
       " ('c', 'i'),\n",
       " ('i', 'a'),\n",
       " ('a', 'l'),\n",
       " ('l', ' '),\n",
       " (' ', 'i'),\n",
       " ('i', 'n'),\n",
       " ('n', 't'),\n",
       " ('t', 'e'),\n",
       " ('e', 'l'),\n",
       " ('l', 'l'),\n",
       " ('l', 'i'),\n",
       " ('i', 'g'),\n",
       " ('g', 'e'),\n",
       " ('e', 'n'),\n",
       " ('n', 'c'),\n",
       " ('c', 'e'),\n",
       " ('e', ' '),\n",
       " (' ', '('),\n",
       " ('(', 'A'),\n",
       " ('A', 'I'),\n",
       " ('I', ')'),\n",
       " (')', ' '),\n",
       " (' ', 'r'),\n",
       " ('r', 'e'),\n",
       " ('e', 'f'),\n",
       " ('f', 'e'),\n",
       " ('e', 'r'),\n",
       " ('r', 's'),\n",
       " ('s', ' '),\n",
       " (' ', 't'),\n",
       " ('t', 'o'),\n",
       " ('o', ' '),\n",
       " (' ', '\\n'),\n",
       " ('\\n', 't'),\n",
       " ('t', 'h'),\n",
       " ('h', 'e'),\n",
       " ('e', ' '),\n",
       " (' ', 's'),\n",
       " ('s', 'i'),\n",
       " ('i', 'm'),\n",
       " ('m', 'u'),\n",
       " ('u', 'l'),\n",
       " ('l', 'a'),\n",
       " ('a', 't'),\n",
       " ('t', 'i'),\n",
       " ('i', 'o'),\n",
       " ('o', 'n'),\n",
       " ('n', ' '),\n",
       " (' ', 'o'),\n",
       " ('o', 'f'),\n",
       " ('f', ' '),\n",
       " (' ', 'h'),\n",
       " ('h', 'u'),\n",
       " ('u', 'm'),\n",
       " ('m', 'a'),\n",
       " ('a', 'n'),\n",
       " ('n', ' '),\n",
       " (' ', 'i'),\n",
       " ('i', 'n'),\n",
       " ('n', 't'),\n",
       " ('t', 'e'),\n",
       " ('e', 'l'),\n",
       " ('l', 'l'),\n",
       " ('l', 'i'),\n",
       " ('i', 'g'),\n",
       " ('g', 'e'),\n",
       " ('e', 'n'),\n",
       " ('n', 'c'),\n",
       " ('c', 'e'),\n",
       " ('e', ' '),\n",
       " (' ', 'i'),\n",
       " ('i', 'n'),\n",
       " ('n', ' '),\n",
       " (' ', 'm'),\n",
       " ('m', 'a'),\n",
       " ('a', 'c'),\n",
       " ('c', 'h'),\n",
       " ('h', 'i'),\n",
       " ('i', 'n'),\n",
       " ('n', 'e'),\n",
       " ('e', 's'),\n",
       " ('s', ' '),\n",
       " (' ', 't'),\n",
       " ('t', 'h'),\n",
       " ('h', 'a'),\n",
       " ('a', 't'),\n",
       " ('t', ' '),\n",
       " (' ', 'a'),\n",
       " ('a', 'r'),\n",
       " ('r', 'e'),\n",
       " ('e', ' '),\n",
       " (' ', 'p'),\n",
       " ('p', 'r'),\n",
       " ('r', 'o'),\n",
       " ('o', 'g'),\n",
       " ('g', 'r'),\n",
       " ('r', 'a'),\n",
       " ('a', 'm'),\n",
       " ('m', 'm'),\n",
       " ('m', 'e'),\n",
       " ('e', 'd'),\n",
       " ('d', ' '),\n",
       " (' ', 't'),\n",
       " ('t', 'o'),\n",
       " ('o', '\\n'),\n",
       " ('\\n', 't'),\n",
       " ('t', 'h'),\n",
       " ('h', 'i'),\n",
       " ('i', 'n'),\n",
       " ('n', 'k'),\n",
       " ('k', ' '),\n",
       " (' ', 'l'),\n",
       " ('l', 'i'),\n",
       " ('i', 'k'),\n",
       " ('k', 'e'),\n",
       " ('e', ' '),\n",
       " (' ', 'h'),\n",
       " ('h', 'u'),\n",
       " ('u', 'm'),\n",
       " ('m', 'a'),\n",
       " ('a', 'n'),\n",
       " ('n', 's'),\n",
       " ('s', ' '),\n",
       " (' ', 'a'),\n",
       " ('a', 'n'),\n",
       " ('n', 'd'),\n",
       " ('d', ' '),\n",
       " (' ', 'm'),\n",
       " ('m', 'i'),\n",
       " ('i', 'm'),\n",
       " ('m', 'i'),\n",
       " ('i', 'c'),\n",
       " ('c', ' '),\n",
       " (' ', 't'),\n",
       " ('t', 'h'),\n",
       " ('h', 'e'),\n",
       " ('e', 'i'),\n",
       " ('i', 'r'),\n",
       " ('r', ' '),\n",
       " (' ', 'a'),\n",
       " ('a', 'c'),\n",
       " ('c', 't'),\n",
       " ('t', 'i'),\n",
       " ('i', 'o'),\n",
       " ('o', 'n'),\n",
       " ('n', 's'),\n",
       " ('s', '.'),\n",
       " ('.', ' '),\n",
       " (' ', 'T'),\n",
       " ('T', 'h'),\n",
       " ('h', 'e'),\n",
       " ('e', ' '),\n",
       " (' ', 't'),\n",
       " ('t', 'e'),\n",
       " ('e', 'r'),\n",
       " ('r', 'm'),\n",
       " ('m', ' '),\n",
       " (' ', 'm'),\n",
       " ('m', 'a'),\n",
       " ('a', 'y'),\n",
       " ('y', ' '),\n",
       " (' ', 'a'),\n",
       " ('a', 'l'),\n",
       " ('l', 's'),\n",
       " ('s', 'o'),\n",
       " ('o', ' '),\n",
       " (' ', 'b'),\n",
       " ('b', 'e'),\n",
       " ('e', ' '),\n",
       " (' ', 'a'),\n",
       " ('a', 'p'),\n",
       " ('p', 'p'),\n",
       " ('p', 'l'),\n",
       " ('l', 'i'),\n",
       " ('i', 'e'),\n",
       " ('e', 'd'),\n",
       " ('d', ' '),\n",
       " (' ', 't'),\n",
       " ('t', 'o'),\n",
       " ('o', ' '),\n",
       " (' ', 'a'),\n",
       " ('a', 'n'),\n",
       " ('n', 'y'),\n",
       " ('y', ' '),\n",
       " (' ', '\\n'),\n",
       " ('\\n', 'm'),\n",
       " ('m', 'a'),\n",
       " ('a', 'c'),\n",
       " ('c', 'h'),\n",
       " ('h', 'i'),\n",
       " ('i', 'n'),\n",
       " ('n', 'e'),\n",
       " ('e', ' '),\n",
       " (' ', 't'),\n",
       " ('t', 'h'),\n",
       " ('h', 'a'),\n",
       " ('a', 't'),\n",
       " ('t', ' '),\n",
       " (' ', 'e'),\n",
       " ('e', 'x'),\n",
       " ('x', 'h'),\n",
       " ('h', 'i'),\n",
       " ('i', 'b'),\n",
       " ('b', 'i'),\n",
       " ('i', 't'),\n",
       " ('t', 's'),\n",
       " ('s', ' '),\n",
       " (' ', 't'),\n",
       " ('t', 'r'),\n",
       " ('r', 'a'),\n",
       " ('a', 'i'),\n",
       " ('i', 't'),\n",
       " ('t', 's'),\n",
       " ('s', ' '),\n",
       " (' ', 'a'),\n",
       " ('a', 's'),\n",
       " ('s', 's'),\n",
       " ('s', 'o'),\n",
       " ('o', 'c'),\n",
       " ('c', 'i'),\n",
       " ('i', 'a'),\n",
       " ('a', 't'),\n",
       " ('t', 'e'),\n",
       " ('e', 'd'),\n",
       " ('d', ' '),\n",
       " (' ', 'w'),\n",
       " ('w', 'i'),\n",
       " ('i', 't'),\n",
       " ('t', 'h'),\n",
       " ('h', ' '),\n",
       " (' ', 'a'),\n",
       " ('a', ' '),\n",
       " (' ', 'h'),\n",
       " ('h', 'u'),\n",
       " ('u', 'm'),\n",
       " ('m', 'a'),\n",
       " ('a', 'n'),\n",
       " ('n', ' '),\n",
       " (' ', 'm'),\n",
       " ('m', 'i'),\n",
       " ('i', 'n'),\n",
       " ('n', 'd'),\n",
       " ('d', ' '),\n",
       " (' ', 's'),\n",
       " ('s', 'u'),\n",
       " ('u', 'c'),\n",
       " ('c', 'h'),\n",
       " ('h', ' '),\n",
       " (' ', 'a'),\n",
       " ('a', 's'),\n",
       " ('s', ' '),\n",
       " (' ', 'l'),\n",
       " ('l', 'e'),\n",
       " ('e', 'a'),\n",
       " ('a', 'r'),\n",
       " ('r', 'n'),\n",
       " ('n', 'i'),\n",
       " ('i', 'n'),\n",
       " ('n', 'g'),\n",
       " ('g', ' '),\n",
       " (' ', 'a'),\n",
       " ('a', 'n'),\n",
       " ('n', 'd'),\n",
       " ('d', ' '),\n",
       " (' ', 'p'),\n",
       " ('p', 'r'),\n",
       " ('r', 'o'),\n",
       " ('o', 'b'),\n",
       " ('b', 'l'),\n",
       " ('l', 'e'),\n",
       " ('e', 'm'),\n",
       " ('m', '-'),\n",
       " ('-', 's'),\n",
       " ('s', 'o'),\n",
       " ('o', 'l'),\n",
       " ('l', 'v'),\n",
       " ('v', 'i'),\n",
       " ('i', 'n'),\n",
       " ('n', 'g'),\n",
       " ('g', '.')]"
      ]
     },
     "execution_count": 22,
     "metadata": {},
     "output_type": "execute_result"
    }
   ],
   "source": [
    "quote_bi"
   ]
  },
  {
   "cell_type": "code",
   "execution_count": 23,
   "id": "d058a79c",
   "metadata": {},
   "outputs": [],
   "source": [
    "quotes_tokens = nltk.word_tokenize(string)"
   ]
  },
  {
   "cell_type": "code",
   "execution_count": 24,
   "id": "49c4b713",
   "metadata": {},
   "outputs": [],
   "source": [
    "quotes_bi = list(nltk.bigrams(quotes_tokens))"
   ]
  },
  {
   "cell_type": "code",
   "execution_count": 25,
   "id": "3852d1e1",
   "metadata": {},
   "outputs": [
    {
     "data": {
      "text/plain": [
       "[('Artificial', 'intelligence'),\n",
       " ('intelligence', '('),\n",
       " ('(', 'AI'),\n",
       " ('AI', ')'),\n",
       " (')', 'refers'),\n",
       " ('refers', 'to'),\n",
       " ('to', 'the'),\n",
       " ('the', 'simulation'),\n",
       " ('simulation', 'of'),\n",
       " ('of', 'human'),\n",
       " ('human', 'intelligence'),\n",
       " ('intelligence', 'in'),\n",
       " ('in', 'machines'),\n",
       " ('machines', 'that'),\n",
       " ('that', 'are'),\n",
       " ('are', 'programmed'),\n",
       " ('programmed', 'to'),\n",
       " ('to', 'think'),\n",
       " ('think', 'like'),\n",
       " ('like', 'humans'),\n",
       " ('humans', 'and'),\n",
       " ('and', 'mimic'),\n",
       " ('mimic', 'their'),\n",
       " ('their', 'actions'),\n",
       " ('actions', '.'),\n",
       " ('.', 'The'),\n",
       " ('The', 'term'),\n",
       " ('term', 'may'),\n",
       " ('may', 'also'),\n",
       " ('also', 'be'),\n",
       " ('be', 'applied'),\n",
       " ('applied', 'to'),\n",
       " ('to', 'any'),\n",
       " ('any', 'machine'),\n",
       " ('machine', 'that'),\n",
       " ('that', 'exhibits'),\n",
       " ('exhibits', 'traits'),\n",
       " ('traits', 'associated'),\n",
       " ('associated', 'with'),\n",
       " ('with', 'a'),\n",
       " ('a', 'human'),\n",
       " ('human', 'mind'),\n",
       " ('mind', 'such'),\n",
       " ('such', 'as'),\n",
       " ('as', 'learning'),\n",
       " ('learning', 'and'),\n",
       " ('and', 'problem-solving'),\n",
       " ('problem-solving', '.')]"
      ]
     },
     "execution_count": 25,
     "metadata": {},
     "output_type": "execute_result"
    }
   ],
   "source": [
    "quotes_bi"
   ]
  },
  {
   "cell_type": "code",
   "execution_count": 26,
   "id": "9c88596e",
   "metadata": {},
   "outputs": [],
   "source": [
    "quotes_tri = list(nltk.trigrams(quotes_tokens))"
   ]
  },
  {
   "cell_type": "code",
   "execution_count": 27,
   "id": "33182c37",
   "metadata": {},
   "outputs": [
    {
     "data": {
      "text/plain": [
       "[('Artificial', 'intelligence', '('),\n",
       " ('intelligence', '(', 'AI'),\n",
       " ('(', 'AI', ')'),\n",
       " ('AI', ')', 'refers'),\n",
       " (')', 'refers', 'to'),\n",
       " ('refers', 'to', 'the'),\n",
       " ('to', 'the', 'simulation'),\n",
       " ('the', 'simulation', 'of'),\n",
       " ('simulation', 'of', 'human'),\n",
       " ('of', 'human', 'intelligence'),\n",
       " ('human', 'intelligence', 'in'),\n",
       " ('intelligence', 'in', 'machines'),\n",
       " ('in', 'machines', 'that'),\n",
       " ('machines', 'that', 'are'),\n",
       " ('that', 'are', 'programmed'),\n",
       " ('are', 'programmed', 'to'),\n",
       " ('programmed', 'to', 'think'),\n",
       " ('to', 'think', 'like'),\n",
       " ('think', 'like', 'humans'),\n",
       " ('like', 'humans', 'and'),\n",
       " ('humans', 'and', 'mimic'),\n",
       " ('and', 'mimic', 'their'),\n",
       " ('mimic', 'their', 'actions'),\n",
       " ('their', 'actions', '.'),\n",
       " ('actions', '.', 'The'),\n",
       " ('.', 'The', 'term'),\n",
       " ('The', 'term', 'may'),\n",
       " ('term', 'may', 'also'),\n",
       " ('may', 'also', 'be'),\n",
       " ('also', 'be', 'applied'),\n",
       " ('be', 'applied', 'to'),\n",
       " ('applied', 'to', 'any'),\n",
       " ('to', 'any', 'machine'),\n",
       " ('any', 'machine', 'that'),\n",
       " ('machine', 'that', 'exhibits'),\n",
       " ('that', 'exhibits', 'traits'),\n",
       " ('exhibits', 'traits', 'associated'),\n",
       " ('traits', 'associated', 'with'),\n",
       " ('associated', 'with', 'a'),\n",
       " ('with', 'a', 'human'),\n",
       " ('a', 'human', 'mind'),\n",
       " ('human', 'mind', 'such'),\n",
       " ('mind', 'such', 'as'),\n",
       " ('such', 'as', 'learning'),\n",
       " ('as', 'learning', 'and'),\n",
       " ('learning', 'and', 'problem-solving'),\n",
       " ('and', 'problem-solving', '.')]"
      ]
     },
     "execution_count": 27,
     "metadata": {},
     "output_type": "execute_result"
    }
   ],
   "source": [
    "quotes_tri"
   ]
  },
  {
   "cell_type": "code",
   "execution_count": 28,
   "id": "972d927e",
   "metadata": {},
   "outputs": [],
   "source": [
    "quotes_n = list(nltk.ngrams(quotes_tokens,5))"
   ]
  },
  {
   "cell_type": "code",
   "execution_count": 29,
   "id": "0491d477",
   "metadata": {},
   "outputs": [
    {
     "data": {
      "text/plain": [
       "[('Artificial', 'intelligence', '(', 'AI', ')'),\n",
       " ('intelligence', '(', 'AI', ')', 'refers'),\n",
       " ('(', 'AI', ')', 'refers', 'to'),\n",
       " ('AI', ')', 'refers', 'to', 'the'),\n",
       " (')', 'refers', 'to', 'the', 'simulation'),\n",
       " ('refers', 'to', 'the', 'simulation', 'of'),\n",
       " ('to', 'the', 'simulation', 'of', 'human'),\n",
       " ('the', 'simulation', 'of', 'human', 'intelligence'),\n",
       " ('simulation', 'of', 'human', 'intelligence', 'in'),\n",
       " ('of', 'human', 'intelligence', 'in', 'machines'),\n",
       " ('human', 'intelligence', 'in', 'machines', 'that'),\n",
       " ('intelligence', 'in', 'machines', 'that', 'are'),\n",
       " ('in', 'machines', 'that', 'are', 'programmed'),\n",
       " ('machines', 'that', 'are', 'programmed', 'to'),\n",
       " ('that', 'are', 'programmed', 'to', 'think'),\n",
       " ('are', 'programmed', 'to', 'think', 'like'),\n",
       " ('programmed', 'to', 'think', 'like', 'humans'),\n",
       " ('to', 'think', 'like', 'humans', 'and'),\n",
       " ('think', 'like', 'humans', 'and', 'mimic'),\n",
       " ('like', 'humans', 'and', 'mimic', 'their'),\n",
       " ('humans', 'and', 'mimic', 'their', 'actions'),\n",
       " ('and', 'mimic', 'their', 'actions', '.'),\n",
       " ('mimic', 'their', 'actions', '.', 'The'),\n",
       " ('their', 'actions', '.', 'The', 'term'),\n",
       " ('actions', '.', 'The', 'term', 'may'),\n",
       " ('.', 'The', 'term', 'may', 'also'),\n",
       " ('The', 'term', 'may', 'also', 'be'),\n",
       " ('term', 'may', 'also', 'be', 'applied'),\n",
       " ('may', 'also', 'be', 'applied', 'to'),\n",
       " ('also', 'be', 'applied', 'to', 'any'),\n",
       " ('be', 'applied', 'to', 'any', 'machine'),\n",
       " ('applied', 'to', 'any', 'machine', 'that'),\n",
       " ('to', 'any', 'machine', 'that', 'exhibits'),\n",
       " ('any', 'machine', 'that', 'exhibits', 'traits'),\n",
       " ('machine', 'that', 'exhibits', 'traits', 'associated'),\n",
       " ('that', 'exhibits', 'traits', 'associated', 'with'),\n",
       " ('exhibits', 'traits', 'associated', 'with', 'a'),\n",
       " ('traits', 'associated', 'with', 'a', 'human'),\n",
       " ('associated', 'with', 'a', 'human', 'mind'),\n",
       " ('with', 'a', 'human', 'mind', 'such'),\n",
       " ('a', 'human', 'mind', 'such', 'as'),\n",
       " ('human', 'mind', 'such', 'as', 'learning'),\n",
       " ('mind', 'such', 'as', 'learning', 'and'),\n",
       " ('such', 'as', 'learning', 'and', 'problem-solving'),\n",
       " ('as', 'learning', 'and', 'problem-solving', '.')]"
      ]
     },
     "execution_count": 29,
     "metadata": {},
     "output_type": "execute_result"
    }
   ],
   "source": [
    "quotes_n"
   ]
  },
  {
   "cell_type": "markdown",
   "id": "4bfeea8b",
   "metadata": {},
   "source": [
    "# Stemming"
   ]
  },
  {
   "cell_type": "code",
   "execution_count": 30,
   "id": "8ccf87f9",
   "metadata": {},
   "outputs": [],
   "source": [
    "from nltk.stem import PorterStemmer"
   ]
  },
  {
   "cell_type": "markdown",
   "id": "ffa0e189",
   "metadata": {},
   "source": [
    "## PorterStemmer"
   ]
  },
  {
   "cell_type": "code",
   "execution_count": 31,
   "id": "81e5815d",
   "metadata": {},
   "outputs": [],
   "source": [
    "pst = PorterStemmer()"
   ]
  },
  {
   "cell_type": "code",
   "execution_count": 32,
   "id": "6f5f36ed",
   "metadata": {},
   "outputs": [
    {
     "data": {
      "text/plain": [
       "'have'"
      ]
     },
     "execution_count": 32,
     "metadata": {},
     "output_type": "execute_result"
    }
   ],
   "source": [
    "pst.stem('having') #it will give root form of the word"
   ]
  },
  {
   "cell_type": "code",
   "execution_count": 33,
   "id": "04563586",
   "metadata": {},
   "outputs": [
    {
     "data": {
      "text/plain": [
       "'give'"
      ]
     },
     "execution_count": 33,
     "metadata": {},
     "output_type": "execute_result"
    }
   ],
   "source": [
    "pst.stem('giving')"
   ]
  },
  {
   "cell_type": "code",
   "execution_count": 34,
   "id": "c116a713",
   "metadata": {},
   "outputs": [
    {
     "data": {
      "text/plain": [
       "'affect'"
      ]
     },
     "execution_count": 34,
     "metadata": {},
     "output_type": "execute_result"
    }
   ],
   "source": [
    "pst.stem('affection')"
   ]
  },
  {
   "cell_type": "code",
   "execution_count": 35,
   "id": "81876953",
   "metadata": {},
   "outputs": [
    {
     "data": {
      "text/plain": [
       "'play'"
      ]
     },
     "execution_count": 35,
     "metadata": {},
     "output_type": "execute_result"
    }
   ],
   "source": [
    "pst.stem('played')"
   ]
  },
  {
   "cell_type": "code",
   "execution_count": 36,
   "id": "1637fba4",
   "metadata": {},
   "outputs": [
    {
     "data": {
      "text/plain": [
       "'play'"
      ]
     },
     "execution_count": 36,
     "metadata": {},
     "output_type": "execute_result"
    }
   ],
   "source": [
    "pst.stem('playing')"
   ]
  },
  {
   "cell_type": "code",
   "execution_count": 37,
   "id": "0666556f",
   "metadata": {},
   "outputs": [
    {
     "data": {
      "text/plain": [
       "'play'"
      ]
     },
     "execution_count": 37,
     "metadata": {},
     "output_type": "execute_result"
    }
   ],
   "source": [
    "pst.stem('plays')"
   ]
  },
  {
   "cell_type": "code",
   "execution_count": 38,
   "id": "9dc32724",
   "metadata": {},
   "outputs": [],
   "source": [
    "words_to_stem = ['give','giving','given','gave']"
   ]
  },
  {
   "cell_type": "code",
   "execution_count": 39,
   "id": "d20e892e",
   "metadata": {},
   "outputs": [
    {
     "name": "stdout",
     "output_type": "stream",
     "text": [
      "give:give\n",
      "giving:give\n",
      "given:given\n",
      "gave:gave\n"
     ]
    }
   ],
   "source": [
    "for words in words_to_stem:\n",
    "    print(words+ ':'+ pst.stem(words))"
   ]
  },
  {
   "cell_type": "code",
   "execution_count": 40,
   "id": "04851c7d",
   "metadata": {},
   "outputs": [],
   "source": [
    "words_to_stem = ['give','giving','given','gave', 'thinking','loving']"
   ]
  },
  {
   "cell_type": "code",
   "execution_count": 41,
   "id": "5e20bf3c",
   "metadata": {},
   "outputs": [
    {
     "name": "stdout",
     "output_type": "stream",
     "text": [
      "give:give\n",
      "giving:give\n",
      "given:given\n",
      "gave:gave\n",
      "thinking:think\n",
      "loving:love\n"
     ]
    }
   ],
   "source": [
    "for words in words_to_stem:\n",
    "    print(words+':'+pst.stem(words))"
   ]
  },
  {
   "cell_type": "markdown",
   "id": "2d53a874",
   "metadata": {},
   "source": [
    "## LancasterStemmer()"
   ]
  },
  {
   "cell_type": "code",
   "execution_count": 42,
   "id": "785c8416",
   "metadata": {},
   "outputs": [],
   "source": [
    "from nltk.stem import LancasterStemmer"
   ]
  },
  {
   "cell_type": "code",
   "execution_count": 43,
   "id": "8150bd79",
   "metadata": {},
   "outputs": [],
   "source": [
    "lst = LancasterStemmer()"
   ]
  },
  {
   "cell_type": "code",
   "execution_count": 44,
   "id": "42b22d7c",
   "metadata": {},
   "outputs": [
    {
     "data": {
      "text/plain": [
       "'hav'"
      ]
     },
     "execution_count": 44,
     "metadata": {},
     "output_type": "execute_result"
    }
   ],
   "source": [
    "lst.stem('having')"
   ]
  },
  {
   "cell_type": "code",
   "execution_count": 45,
   "id": "c22785cd",
   "metadata": {},
   "outputs": [
    {
     "name": "stdout",
     "output_type": "stream",
     "text": [
      "give : giv\n",
      "giving : giv\n",
      "given : giv\n",
      "gave : gav\n",
      "thinking : think\n",
      "loving : lov\n"
     ]
    }
   ],
   "source": [
    "for words in words_to_stem:\n",
    "    print(words+' : '+lst.stem(words))"
   ]
  },
  {
   "cell_type": "markdown",
   "id": "b358ed12",
   "metadata": {},
   "source": [
    "## SnowballStemmer()"
   ]
  },
  {
   "cell_type": "code",
   "execution_count": 46,
   "id": "bc685202",
   "metadata": {},
   "outputs": [],
   "source": [
    "from nltk.stem import SnowballStemmer"
   ]
  },
  {
   "cell_type": "code",
   "execution_count": 47,
   "id": "915b5996",
   "metadata": {},
   "outputs": [],
   "source": [
    "sbst = SnowballStemmer('english')"
   ]
  },
  {
   "cell_type": "code",
   "execution_count": 48,
   "id": "6dc207ed",
   "metadata": {},
   "outputs": [
    {
     "data": {
      "text/plain": [
       "<nltk.stem.snowball.SnowballStemmer at 0x2085b9b09a0>"
      ]
     },
     "execution_count": 48,
     "metadata": {},
     "output_type": "execute_result"
    }
   ],
   "source": [
    "sbst"
   ]
  },
  {
   "cell_type": "code",
   "execution_count": 49,
   "id": "feca7255",
   "metadata": {},
   "outputs": [
    {
     "name": "stdout",
     "output_type": "stream",
     "text": [
      "give : give\n",
      "giving : give\n",
      "given : given\n",
      "gave : gave\n",
      "thinking : think\n",
      "loving : love\n"
     ]
    }
   ],
   "source": [
    "for words in words_to_stem:\n",
    "    print(words+' : '+sbst.stem(words))"
   ]
  },
  {
   "cell_type": "markdown",
   "id": "105e2226",
   "metadata": {},
   "source": [
    "# Lemmatization"
   ]
  },
  {
   "cell_type": "code",
   "execution_count": 50,
   "id": "2ede8bed",
   "metadata": {},
   "outputs": [],
   "source": [
    "from nltk.stem import wordnet"
   ]
  },
  {
   "cell_type": "code",
   "execution_count": 51,
   "id": "5274a30b",
   "metadata": {},
   "outputs": [],
   "source": [
    "from nltk.stem import WordNetLemmatizer"
   ]
  },
  {
   "cell_type": "code",
   "execution_count": 52,
   "id": "fa9b3b49",
   "metadata": {},
   "outputs": [],
   "source": [
    "word_lem = WordNetLemmatizer()"
   ]
  },
  {
   "cell_type": "code",
   "execution_count": 53,
   "id": "44f379a1",
   "metadata": {},
   "outputs": [
    {
     "data": {
      "text/plain": [
       "'corpus'"
      ]
     },
     "execution_count": 53,
     "metadata": {},
     "output_type": "execute_result"
    }
   ],
   "source": [
    "word_lem.lemmatize('corpora')"
   ]
  },
  {
   "cell_type": "code",
   "execution_count": 54,
   "id": "eb0d5222",
   "metadata": {},
   "outputs": [
    {
     "data": {
      "text/plain": [
       "'histori'"
      ]
     },
     "execution_count": 54,
     "metadata": {},
     "output_type": "execute_result"
    }
   ],
   "source": [
    "pst.stem('history')"
   ]
  },
  {
   "cell_type": "code",
   "execution_count": 55,
   "id": "a9e886a1",
   "metadata": {},
   "outputs": [
    {
     "data": {
      "text/plain": [
       "'hist'"
      ]
     },
     "execution_count": 55,
     "metadata": {},
     "output_type": "execute_result"
    }
   ],
   "source": [
    "lst.stem('history')"
   ]
  },
  {
   "cell_type": "code",
   "execution_count": 56,
   "id": "f9f11f69",
   "metadata": {},
   "outputs": [
    {
     "data": {
      "text/plain": [
       "'histori'"
      ]
     },
     "execution_count": 56,
     "metadata": {},
     "output_type": "execute_result"
    }
   ],
   "source": [
    "sbst.stem('history')"
   ]
  },
  {
   "cell_type": "code",
   "execution_count": 57,
   "id": "0d30abe2",
   "metadata": {},
   "outputs": [
    {
     "data": {
      "text/plain": [
       "'histor'"
      ]
     },
     "execution_count": 57,
     "metadata": {},
     "output_type": "execute_result"
    }
   ],
   "source": [
    "pst.stem('historical')"
   ]
  },
  {
   "cell_type": "code",
   "execution_count": 58,
   "id": "4ea38802",
   "metadata": {},
   "outputs": [
    {
     "data": {
      "text/plain": [
       "'hist'"
      ]
     },
     "execution_count": 58,
     "metadata": {},
     "output_type": "execute_result"
    }
   ],
   "source": [
    "lst.stem('historical')"
   ]
  },
  {
   "cell_type": "code",
   "execution_count": 59,
   "id": "9f1680a2",
   "metadata": {},
   "outputs": [
    {
     "data": {
      "text/plain": [
       "'histor'"
      ]
     },
     "execution_count": 59,
     "metadata": {},
     "output_type": "execute_result"
    }
   ],
   "source": [
    "sbst.stem('historical')"
   ]
  },
  {
   "cell_type": "code",
   "execution_count": 60,
   "id": "046b6717",
   "metadata": {},
   "outputs": [
    {
     "data": {
      "text/plain": [
       "'history'"
      ]
     },
     "execution_count": 60,
     "metadata": {},
     "output_type": "execute_result"
    }
   ],
   "source": [
    "word_lem.lemmatize('history')"
   ]
  },
  {
   "cell_type": "code",
   "execution_count": 61,
   "id": "07db8953",
   "metadata": {},
   "outputs": [
    {
     "data": {
      "text/plain": [
       "'historical'"
      ]
     },
     "execution_count": 61,
     "metadata": {},
     "output_type": "execute_result"
    }
   ],
   "source": [
    "word_lem.lemmatize('historical')"
   ]
  },
  {
   "cell_type": "code",
   "execution_count": 62,
   "id": "914bce70",
   "metadata": {},
   "outputs": [
    {
     "data": {
      "text/plain": [
       "'historically'"
      ]
     },
     "execution_count": 62,
     "metadata": {},
     "output_type": "execute_result"
    }
   ],
   "source": [
    "word_lem.lemmatize('historically')"
   ]
  },
  {
   "cell_type": "code",
   "execution_count": 63,
   "id": "a65ce659",
   "metadata": {},
   "outputs": [
    {
     "data": {
      "text/plain": [
       "'finally'"
      ]
     },
     "execution_count": 63,
     "metadata": {},
     "output_type": "execute_result"
    }
   ],
   "source": [
    "word_lem.lemmatize('finally')"
   ]
  },
  {
   "cell_type": "markdown",
   "id": "1ab72173",
   "metadata": {},
   "source": [
    "Steming will convert given word into base or root form\n",
    "Lemmatization will convert given word into proper word"
   ]
  },
  {
   "cell_type": "code",
   "execution_count": 64,
   "id": "f5ca0e88",
   "metadata": {},
   "outputs": [
    {
     "data": {
      "text/plain": [
       "['give', 'giving', 'given', 'gave', 'thinking', 'loving']"
      ]
     },
     "execution_count": 64,
     "metadata": {},
     "output_type": "execute_result"
    }
   ],
   "source": [
    "words_to_stem"
   ]
  },
  {
   "cell_type": "code",
   "execution_count": 65,
   "id": "260ea7ca",
   "metadata": {},
   "outputs": [
    {
     "name": "stdout",
     "output_type": "stream",
     "text": [
      "give : give\n",
      "giving : giving\n",
      "given : given\n",
      "gave : gave\n",
      "thinking : thinking\n",
      "loving : loving\n"
     ]
    }
   ],
   "source": [
    "for words in words_to_stem:\n",
    "    print(words+' : '+word_lem.lemmatize(words))"
   ]
  },
  {
   "cell_type": "markdown",
   "id": "90502077",
   "metadata": {},
   "source": [
    "# Stopwords"
   ]
  },
  {
   "cell_type": "code",
   "execution_count": 66,
   "id": "1cda19e9",
   "metadata": {},
   "outputs": [],
   "source": [
    "from nltk.corpus import stopwords"
   ]
  },
  {
   "cell_type": "code",
   "execution_count": 67,
   "id": "cf5016af",
   "metadata": {},
   "outputs": [
    {
     "data": {
      "text/plain": [
       "['i',\n",
       " 'me',\n",
       " 'my',\n",
       " 'myself',\n",
       " 'we',\n",
       " 'our',\n",
       " 'ours',\n",
       " 'ourselves',\n",
       " 'you',\n",
       " \"you're\",\n",
       " \"you've\",\n",
       " \"you'll\",\n",
       " \"you'd\",\n",
       " 'your',\n",
       " 'yours',\n",
       " 'yourself',\n",
       " 'yourselves',\n",
       " 'he',\n",
       " 'him',\n",
       " 'his',\n",
       " 'himself',\n",
       " 'she',\n",
       " \"she's\",\n",
       " 'her',\n",
       " 'hers',\n",
       " 'herself',\n",
       " 'it',\n",
       " \"it's\",\n",
       " 'its',\n",
       " 'itself',\n",
       " 'they',\n",
       " 'them',\n",
       " 'their',\n",
       " 'theirs',\n",
       " 'themselves',\n",
       " 'what',\n",
       " 'which',\n",
       " 'who',\n",
       " 'whom',\n",
       " 'this',\n",
       " 'that',\n",
       " \"that'll\",\n",
       " 'these',\n",
       " 'those',\n",
       " 'am',\n",
       " 'is',\n",
       " 'are',\n",
       " 'was',\n",
       " 'were',\n",
       " 'be',\n",
       " 'been',\n",
       " 'being',\n",
       " 'have',\n",
       " 'has',\n",
       " 'had',\n",
       " 'having',\n",
       " 'do',\n",
       " 'does',\n",
       " 'did',\n",
       " 'doing',\n",
       " 'a',\n",
       " 'an',\n",
       " 'the',\n",
       " 'and',\n",
       " 'but',\n",
       " 'if',\n",
       " 'or',\n",
       " 'because',\n",
       " 'as',\n",
       " 'until',\n",
       " 'while',\n",
       " 'of',\n",
       " 'at',\n",
       " 'by',\n",
       " 'for',\n",
       " 'with',\n",
       " 'about',\n",
       " 'against',\n",
       " 'between',\n",
       " 'into',\n",
       " 'through',\n",
       " 'during',\n",
       " 'before',\n",
       " 'after',\n",
       " 'above',\n",
       " 'below',\n",
       " 'to',\n",
       " 'from',\n",
       " 'up',\n",
       " 'down',\n",
       " 'in',\n",
       " 'out',\n",
       " 'on',\n",
       " 'off',\n",
       " 'over',\n",
       " 'under',\n",
       " 'again',\n",
       " 'further',\n",
       " 'then',\n",
       " 'once',\n",
       " 'here',\n",
       " 'there',\n",
       " 'when',\n",
       " 'where',\n",
       " 'why',\n",
       " 'how',\n",
       " 'all',\n",
       " 'any',\n",
       " 'both',\n",
       " 'each',\n",
       " 'few',\n",
       " 'more',\n",
       " 'most',\n",
       " 'other',\n",
       " 'some',\n",
       " 'such',\n",
       " 'no',\n",
       " 'nor',\n",
       " 'not',\n",
       " 'only',\n",
       " 'own',\n",
       " 'same',\n",
       " 'so',\n",
       " 'than',\n",
       " 'too',\n",
       " 'very',\n",
       " 's',\n",
       " 't',\n",
       " 'can',\n",
       " 'will',\n",
       " 'just',\n",
       " 'don',\n",
       " \"don't\",\n",
       " 'should',\n",
       " \"should've\",\n",
       " 'now',\n",
       " 'd',\n",
       " 'll',\n",
       " 'm',\n",
       " 'o',\n",
       " 're',\n",
       " 've',\n",
       " 'y',\n",
       " 'ain',\n",
       " 'aren',\n",
       " \"aren't\",\n",
       " 'couldn',\n",
       " \"couldn't\",\n",
       " 'didn',\n",
       " \"didn't\",\n",
       " 'doesn',\n",
       " \"doesn't\",\n",
       " 'hadn',\n",
       " \"hadn't\",\n",
       " 'hasn',\n",
       " \"hasn't\",\n",
       " 'haven',\n",
       " \"haven't\",\n",
       " 'isn',\n",
       " \"isn't\",\n",
       " 'ma',\n",
       " 'mightn',\n",
       " \"mightn't\",\n",
       " 'mustn',\n",
       " \"mustn't\",\n",
       " 'needn',\n",
       " \"needn't\",\n",
       " 'shan',\n",
       " \"shan't\",\n",
       " 'shouldn',\n",
       " \"shouldn't\",\n",
       " 'wasn',\n",
       " \"wasn't\",\n",
       " 'weren',\n",
       " \"weren't\",\n",
       " 'won',\n",
       " \"won't\",\n",
       " 'wouldn',\n",
       " \"wouldn't\"]"
      ]
     },
     "execution_count": 67,
     "metadata": {},
     "output_type": "execute_result"
    }
   ],
   "source": [
    "stopwords.words('english')"
   ]
  },
  {
   "cell_type": "code",
   "execution_count": 68,
   "id": "d5770839",
   "metadata": {},
   "outputs": [
    {
     "data": {
      "text/plain": [
       "179"
      ]
     },
     "execution_count": 68,
     "metadata": {},
     "output_type": "execute_result"
    }
   ],
   "source": [
    "len(stopwords.words('english'))"
   ]
  },
  {
   "cell_type": "code",
   "execution_count": 69,
   "id": "79706d7f",
   "metadata": {},
   "outputs": [
    {
     "data": {
      "text/plain": [
       "['de',\n",
       " 'la',\n",
       " 'que',\n",
       " 'el',\n",
       " 'en',\n",
       " 'y',\n",
       " 'a',\n",
       " 'los',\n",
       " 'del',\n",
       " 'se',\n",
       " 'las',\n",
       " 'por',\n",
       " 'un',\n",
       " 'para',\n",
       " 'con',\n",
       " 'no',\n",
       " 'una',\n",
       " 'su',\n",
       " 'al',\n",
       " 'lo',\n",
       " 'como',\n",
       " 'más',\n",
       " 'pero',\n",
       " 'sus',\n",
       " 'le',\n",
       " 'ya',\n",
       " 'o',\n",
       " 'este',\n",
       " 'sí',\n",
       " 'porque',\n",
       " 'esta',\n",
       " 'entre',\n",
       " 'cuando',\n",
       " 'muy',\n",
       " 'sin',\n",
       " 'sobre',\n",
       " 'también',\n",
       " 'me',\n",
       " 'hasta',\n",
       " 'hay',\n",
       " 'donde',\n",
       " 'quien',\n",
       " 'desde',\n",
       " 'todo',\n",
       " 'nos',\n",
       " 'durante',\n",
       " 'todos',\n",
       " 'uno',\n",
       " 'les',\n",
       " 'ni',\n",
       " 'contra',\n",
       " 'otros',\n",
       " 'ese',\n",
       " 'eso',\n",
       " 'ante',\n",
       " 'ellos',\n",
       " 'e',\n",
       " 'esto',\n",
       " 'mí',\n",
       " 'antes',\n",
       " 'algunos',\n",
       " 'qué',\n",
       " 'unos',\n",
       " 'yo',\n",
       " 'otro',\n",
       " 'otras',\n",
       " 'otra',\n",
       " 'él',\n",
       " 'tanto',\n",
       " 'esa',\n",
       " 'estos',\n",
       " 'mucho',\n",
       " 'quienes',\n",
       " 'nada',\n",
       " 'muchos',\n",
       " 'cual',\n",
       " 'poco',\n",
       " 'ella',\n",
       " 'estar',\n",
       " 'estas',\n",
       " 'algunas',\n",
       " 'algo',\n",
       " 'nosotros',\n",
       " 'mi',\n",
       " 'mis',\n",
       " 'tú',\n",
       " 'te',\n",
       " 'ti',\n",
       " 'tu',\n",
       " 'tus',\n",
       " 'ellas',\n",
       " 'nosotras',\n",
       " 'vosotros',\n",
       " 'vosotras',\n",
       " 'os',\n",
       " 'mío',\n",
       " 'mía',\n",
       " 'míos',\n",
       " 'mías',\n",
       " 'tuyo',\n",
       " 'tuya',\n",
       " 'tuyos',\n",
       " 'tuyas',\n",
       " 'suyo',\n",
       " 'suya',\n",
       " 'suyos',\n",
       " 'suyas',\n",
       " 'nuestro',\n",
       " 'nuestra',\n",
       " 'nuestros',\n",
       " 'nuestras',\n",
       " 'vuestro',\n",
       " 'vuestra',\n",
       " 'vuestros',\n",
       " 'vuestras',\n",
       " 'esos',\n",
       " 'esas',\n",
       " 'estoy',\n",
       " 'estás',\n",
       " 'está',\n",
       " 'estamos',\n",
       " 'estáis',\n",
       " 'están',\n",
       " 'esté',\n",
       " 'estés',\n",
       " 'estemos',\n",
       " 'estéis',\n",
       " 'estén',\n",
       " 'estaré',\n",
       " 'estarás',\n",
       " 'estará',\n",
       " 'estaremos',\n",
       " 'estaréis',\n",
       " 'estarán',\n",
       " 'estaría',\n",
       " 'estarías',\n",
       " 'estaríamos',\n",
       " 'estaríais',\n",
       " 'estarían',\n",
       " 'estaba',\n",
       " 'estabas',\n",
       " 'estábamos',\n",
       " 'estabais',\n",
       " 'estaban',\n",
       " 'estuve',\n",
       " 'estuviste',\n",
       " 'estuvo',\n",
       " 'estuvimos',\n",
       " 'estuvisteis',\n",
       " 'estuvieron',\n",
       " 'estuviera',\n",
       " 'estuvieras',\n",
       " 'estuviéramos',\n",
       " 'estuvierais',\n",
       " 'estuvieran',\n",
       " 'estuviese',\n",
       " 'estuvieses',\n",
       " 'estuviésemos',\n",
       " 'estuvieseis',\n",
       " 'estuviesen',\n",
       " 'estando',\n",
       " 'estado',\n",
       " 'estada',\n",
       " 'estados',\n",
       " 'estadas',\n",
       " 'estad',\n",
       " 'he',\n",
       " 'has',\n",
       " 'ha',\n",
       " 'hemos',\n",
       " 'habéis',\n",
       " 'han',\n",
       " 'haya',\n",
       " 'hayas',\n",
       " 'hayamos',\n",
       " 'hayáis',\n",
       " 'hayan',\n",
       " 'habré',\n",
       " 'habrás',\n",
       " 'habrá',\n",
       " 'habremos',\n",
       " 'habréis',\n",
       " 'habrán',\n",
       " 'habría',\n",
       " 'habrías',\n",
       " 'habríamos',\n",
       " 'habríais',\n",
       " 'habrían',\n",
       " 'había',\n",
       " 'habías',\n",
       " 'habíamos',\n",
       " 'habíais',\n",
       " 'habían',\n",
       " 'hube',\n",
       " 'hubiste',\n",
       " 'hubo',\n",
       " 'hubimos',\n",
       " 'hubisteis',\n",
       " 'hubieron',\n",
       " 'hubiera',\n",
       " 'hubieras',\n",
       " 'hubiéramos',\n",
       " 'hubierais',\n",
       " 'hubieran',\n",
       " 'hubiese',\n",
       " 'hubieses',\n",
       " 'hubiésemos',\n",
       " 'hubieseis',\n",
       " 'hubiesen',\n",
       " 'habiendo',\n",
       " 'habido',\n",
       " 'habida',\n",
       " 'habidos',\n",
       " 'habidas',\n",
       " 'soy',\n",
       " 'eres',\n",
       " 'es',\n",
       " 'somos',\n",
       " 'sois',\n",
       " 'son',\n",
       " 'sea',\n",
       " 'seas',\n",
       " 'seamos',\n",
       " 'seáis',\n",
       " 'sean',\n",
       " 'seré',\n",
       " 'serás',\n",
       " 'será',\n",
       " 'seremos',\n",
       " 'seréis',\n",
       " 'serán',\n",
       " 'sería',\n",
       " 'serías',\n",
       " 'seríamos',\n",
       " 'seríais',\n",
       " 'serían',\n",
       " 'era',\n",
       " 'eras',\n",
       " 'éramos',\n",
       " 'erais',\n",
       " 'eran',\n",
       " 'fui',\n",
       " 'fuiste',\n",
       " 'fue',\n",
       " 'fuimos',\n",
       " 'fuisteis',\n",
       " 'fueron',\n",
       " 'fuera',\n",
       " 'fueras',\n",
       " 'fuéramos',\n",
       " 'fuerais',\n",
       " 'fueran',\n",
       " 'fuese',\n",
       " 'fueses',\n",
       " 'fuésemos',\n",
       " 'fueseis',\n",
       " 'fuesen',\n",
       " 'sintiendo',\n",
       " 'sentido',\n",
       " 'sentida',\n",
       " 'sentidos',\n",
       " 'sentidas',\n",
       " 'siente',\n",
       " 'sentid',\n",
       " 'tengo',\n",
       " 'tienes',\n",
       " 'tiene',\n",
       " 'tenemos',\n",
       " 'tenéis',\n",
       " 'tienen',\n",
       " 'tenga',\n",
       " 'tengas',\n",
       " 'tengamos',\n",
       " 'tengáis',\n",
       " 'tengan',\n",
       " 'tendré',\n",
       " 'tendrás',\n",
       " 'tendrá',\n",
       " 'tendremos',\n",
       " 'tendréis',\n",
       " 'tendrán',\n",
       " 'tendría',\n",
       " 'tendrías',\n",
       " 'tendríamos',\n",
       " 'tendríais',\n",
       " 'tendrían',\n",
       " 'tenía',\n",
       " 'tenías',\n",
       " 'teníamos',\n",
       " 'teníais',\n",
       " 'tenían',\n",
       " 'tuve',\n",
       " 'tuviste',\n",
       " 'tuvo',\n",
       " 'tuvimos',\n",
       " 'tuvisteis',\n",
       " 'tuvieron',\n",
       " 'tuviera',\n",
       " 'tuvieras',\n",
       " 'tuviéramos',\n",
       " 'tuvierais',\n",
       " 'tuvieran',\n",
       " 'tuviese',\n",
       " 'tuvieses',\n",
       " 'tuviésemos',\n",
       " 'tuvieseis',\n",
       " 'tuviesen',\n",
       " 'teniendo',\n",
       " 'tenido',\n",
       " 'tenida',\n",
       " 'tenidos',\n",
       " 'tenidas',\n",
       " 'tened']"
      ]
     },
     "execution_count": 69,
     "metadata": {},
     "output_type": "execute_result"
    }
   ],
   "source": [
    "stopwords.words('spanish')"
   ]
  },
  {
   "cell_type": "code",
   "execution_count": 70,
   "id": "4c72ac36",
   "metadata": {},
   "outputs": [
    {
     "data": {
      "text/plain": [
       "313"
      ]
     },
     "execution_count": 70,
     "metadata": {},
     "output_type": "execute_result"
    }
   ],
   "source": [
    "len(stopwords.words('spanish'))"
   ]
  },
  {
   "cell_type": "code",
   "execution_count": 71,
   "id": "4a2df126",
   "metadata": {},
   "outputs": [
    {
     "data": {
      "text/plain": [
       "157"
      ]
     },
     "execution_count": 71,
     "metadata": {},
     "output_type": "execute_result"
    }
   ],
   "source": [
    "len(stopwords.words('french'))"
   ]
  },
  {
   "cell_type": "code",
   "execution_count": 72,
   "id": "7d476349",
   "metadata": {},
   "outputs": [
    {
     "data": {
      "text/plain": [
       "53"
      ]
     },
     "execution_count": 72,
     "metadata": {},
     "output_type": "execute_result"
    }
   ],
   "source": [
    "len(stopwords.words('turkish'))"
   ]
  },
  {
   "cell_type": "code",
   "execution_count": 73,
   "id": "f398728f",
   "metadata": {},
   "outputs": [
    {
     "data": {
      "text/plain": [
       "754"
      ]
     },
     "execution_count": 73,
     "metadata": {},
     "output_type": "execute_result"
    }
   ],
   "source": [
    "len(stopwords.words('arabic'))"
   ]
  },
  {
   "cell_type": "markdown",
   "id": "99d4fb9e",
   "metadata": {},
   "source": [
    "# Parts of Speech (POS)"
   ]
  },
  {
   "cell_type": "markdown",
   "id": "bd394838",
   "metadata": {},
   "source": [
    "# RE Regular Expressions"
   ]
  },
  {
   "cell_type": "code",
   "execution_count": 74,
   "id": "e971b5c8",
   "metadata": {},
   "outputs": [],
   "source": [
    "import re"
   ]
  },
  {
   "cell_type": "code",
   "execution_count": 75,
   "id": "24d912ce",
   "metadata": {},
   "outputs": [],
   "source": [
    "punctuations = re.compile(r'[-.?!,:;()|0-9]')"
   ]
  },
  {
   "cell_type": "code",
   "execution_count": 76,
   "id": "9d9adef3",
   "metadata": {},
   "outputs": [
    {
     "data": {
      "text/plain": [
       "re.compile(r'[-.?!,:;()|0-9]', re.UNICODE)"
      ]
     },
     "execution_count": 76,
     "metadata": {},
     "output_type": "execute_result"
    }
   ],
   "source": [
    "punctuations"
   ]
  },
  {
   "cell_type": "code",
   "execution_count": 77,
   "id": "37c392ef",
   "metadata": {},
   "outputs": [],
   "source": [
    "sent = 'javeed is a natural when it comes to honesty'"
   ]
  },
  {
   "cell_type": "code",
   "execution_count": 78,
   "id": "74fd3cf7",
   "metadata": {},
   "outputs": [],
   "source": [
    "sent_tokens = word_tokenize(sent)"
   ]
  },
  {
   "cell_type": "code",
   "execution_count": 79,
   "id": "aad386ae",
   "metadata": {},
   "outputs": [
    {
     "data": {
      "text/plain": [
       "['javeed', 'is', 'a', 'natural', 'when', 'it', 'comes', 'to', 'honesty']"
      ]
     },
     "execution_count": 79,
     "metadata": {},
     "output_type": "execute_result"
    }
   ],
   "source": [
    "sent_tokens"
   ]
  },
  {
   "cell_type": "code",
   "execution_count": 80,
   "id": "e0d1e3f2",
   "metadata": {},
   "outputs": [
    {
     "name": "stdout",
     "output_type": "stream",
     "text": [
      "[('javeed', 'NN')]\n",
      "[('is', 'VBZ')]\n",
      "[('a', 'DT')]\n",
      "[('natural', 'JJ')]\n",
      "[('when', 'WRB')]\n",
      "[('it', 'PRP')]\n",
      "[('comes', 'VBZ')]\n",
      "[('to', 'TO')]\n",
      "[('honesty', 'NN')]\n"
     ]
    }
   ],
   "source": [
    "for token in sent_tokens:\n",
    "    print(nltk.pos_tag([token]))"
   ]
  },
  {
   "cell_type": "markdown",
   "id": "d363706d",
   "metadata": {},
   "source": [
    "# Named Entity Recognizations (NER)"
   ]
  },
  {
   "cell_type": "code",
   "execution_count": 81,
   "id": "8e518429",
   "metadata": {},
   "outputs": [],
   "source": [
    "from nltk import ne_chunk"
   ]
  },
  {
   "cell_type": "code",
   "execution_count": 82,
   "id": "14ad7b9a",
   "metadata": {},
   "outputs": [],
   "source": [
    "NE_sent = \"The US President stays in the WhiteHouse\""
   ]
  },
  {
   "cell_type": "code",
   "execution_count": 83,
   "id": "61145445",
   "metadata": {},
   "outputs": [],
   "source": [
    "NE_tokens = word_tokenize(NE_sent)"
   ]
  },
  {
   "cell_type": "code",
   "execution_count": 84,
   "id": "77602769",
   "metadata": {},
   "outputs": [
    {
     "data": {
      "text/plain": [
       "['The', 'US', 'President', 'stays', 'in', 'the', 'WhiteHouse']"
      ]
     },
     "execution_count": 84,
     "metadata": {},
     "output_type": "execute_result"
    }
   ],
   "source": [
    "NE_tokens"
   ]
  },
  {
   "cell_type": "code",
   "execution_count": 85,
   "id": "c04f2310",
   "metadata": {},
   "outputs": [],
   "source": [
    "NE_tage = nltk.pos_tag(NE_tokens)"
   ]
  },
  {
   "cell_type": "code",
   "execution_count": 86,
   "id": "c0533c17",
   "metadata": {},
   "outputs": [
    {
     "data": {
      "text/plain": [
       "[('The', 'DT'),\n",
       " ('US', 'NNP'),\n",
       " ('President', 'NNP'),\n",
       " ('stays', 'VBZ'),\n",
       " ('in', 'IN'),\n",
       " ('the', 'DT'),\n",
       " ('WhiteHouse', 'NNP')]"
      ]
     },
     "execution_count": 86,
     "metadata": {},
     "output_type": "execute_result"
    }
   ],
   "source": [
    "NE_tage"
   ]
  },
  {
   "cell_type": "code",
   "execution_count": 87,
   "id": "1a9d0286",
   "metadata": {},
   "outputs": [],
   "source": [
    "NE_ner = ne_chunk(NE_tage)"
   ]
  },
  {
   "cell_type": "code",
   "execution_count": 88,
   "id": "4d72d02b",
   "metadata": {},
   "outputs": [
    {
     "name": "stdout",
     "output_type": "stream",
     "text": [
      "(S\n",
      "  The/DT\n",
      "  (ORGANIZATION US/NNP)\n",
      "  President/NNP\n",
      "  stays/VBZ\n",
      "  in/IN\n",
      "  the/DT\n",
      "  (ORGANIZATION WhiteHouse/NNP))\n"
     ]
    }
   ],
   "source": [
    "print(NE_ner)"
   ]
  },
  {
   "cell_type": "markdown",
   "id": "fb785fab",
   "metadata": {},
   "source": [
    "# Text Visualization"
   ]
  },
  {
   "cell_type": "code",
   "execution_count": 89,
   "id": "4483a1a5",
   "metadata": {},
   "outputs": [
    {
     "data": {
      "text/plain": [
       "' Artificial intelligence (AI) refers to the simulation of human intelligence in machines that are programmed to think like humans and mimic their actions. The term may also be applied to any machine that exhibits traits associated with a human mind such as learning and problem-solving.\\n\\nThe ideal characteristic of artificial intelligence is its ability to rationalize and take actions that have the best chance of achieving a specific goal. A subset of artificial intelligence is machine learning (ML), which refers to the concept that computer programs can automatically learn from and adapt to new data without being assisted by humans. Deep learning techniques enable this automatic learning through the absorption of huge amounts of unstructured data such as text, images, or video.'"
      ]
     },
     "execution_count": 89,
     "metadata": {},
     "output_type": "execute_result"
    }
   ],
   "source": [
    "AI"
   ]
  },
  {
   "cell_type": "code",
   "execution_count": 90,
   "id": "8996edfd",
   "metadata": {},
   "outputs": [],
   "source": [
    "from wordcloud import WordCloud"
   ]
  },
  {
   "cell_type": "code",
   "execution_count": 91,
   "id": "da7fbab3",
   "metadata": {},
   "outputs": [],
   "source": [
    "wordcloud = WordCloud(width=480, height = 480, margin =0).generate(AI)"
   ]
  },
  {
   "cell_type": "code",
   "execution_count": 92,
   "id": "a0cedb9e",
   "metadata": {},
   "outputs": [
    {
     "data": {
      "text/plain": [
       "<wordcloud.wordcloud.WordCloud at 0x20864a05d60>"
      ]
     },
     "execution_count": 92,
     "metadata": {},
     "output_type": "execute_result"
    }
   ],
   "source": [
    "wordcloud"
   ]
  },
  {
   "cell_type": "code",
   "execution_count": 93,
   "id": "6709d1f5",
   "metadata": {},
   "outputs": [],
   "source": [
    "import matplotlib.pyplot as plt"
   ]
  },
  {
   "cell_type": "code",
   "execution_count": 94,
   "id": "b5fe971f",
   "metadata": {},
   "outputs": [
    {
     "data": {
      "image/png": "[encoded data removed]",
      "text/plain": [
       "<Figure size 432x288 with 1 Axes>"
      ]
     },
     "metadata": {
      "needs_background": "light"
     },
     "output_type": "display_data"
    }
   ],
   "source": [
    "plt.imshow(wordcloud, interpolation='bilinear')\n",
    "plt.axis(\"off\")\n",
    "plt.margins(x=0,y=0)\n",
    "plt.show()"
   ]
  },
  {
   "cell_type": "code",
   "execution_count": 95,
   "id": "5aab74c8",
   "metadata": {},
   "outputs": [],
   "source": [
    "from nltk.stem import wordnet"
   ]
  },
  {
   "cell_type": "code",
   "execution_count": 96,
   "id": "fc7ab8de",
   "metadata": {},
   "outputs": [
    {
     "ename": "AttributeError",
     "evalue": "module 'nltk.stem.wordnet' has no attribute 'lemmatize'",
     "output_type": "error",
     "traceback": [
      "\u001b[1;31m---------------------------------------------------------------------------\u001b[0m",
      "\u001b[1;31mAttributeError\u001b[0m                            Traceback (most recent call last)",
      "\u001b[1;32mC:\\Users\\ABDULW~1\\AppData\\Local\\Temp/ipykernel_14900/2139251627.py\u001b[0m in \u001b[0;36m<module>\u001b[1;34m\u001b[0m\n\u001b[1;32m----> 1\u001b[1;33m \u001b[0mwordnet\u001b[0m\u001b[1;33m.\u001b[0m\u001b[0mlemmatize\u001b[0m\u001b[1;33m(\u001b[0m\u001b[1;34m'having'\u001b[0m\u001b[1;33m)\u001b[0m\u001b[1;33m\u001b[0m\u001b[1;33m\u001b[0m\u001b[0m\n\u001b[0m",
      "\u001b[1;31mAttributeError\u001b[0m: module 'nltk.stem.wordnet' has no attribute 'lemmatize'"
     ]
    }
   ],
   "source": [
    "wordnet.lemmatize('having')"
   ]
  },
  {
   "cell_type": "code",
   "execution_count": null,
   "id": "429f1cf3",
   "metadata": {},
   "outputs": [],
   "source": [
    "from nltk.stem import WordNetLemmatizer"
   ]
  },
  {
   "cell_type": "code",
   "execution_count": null,
   "id": "1f681510",
   "metadata": {},
   "outputs": [],
   "source": [
    "word_lem = WordNetLemmatizer()"
   ]
  },
  {
   "cell_type": "code",
   "execution_count": null,
   "id": "d92d9950",
   "metadata": {},
   "outputs": [],
   "source": [
    "word_lem.lemmatize('having')"
   ]
  },
  {
   "cell_type": "code",
   "execution_count": null,
   "id": "359d0c7a",
   "metadata": {},
   "outputs": [],
   "source": []
  }
 ],
 "metadata": {
  "kernelspec": {
   "display_name": "Python 3 (ipykernel)",
   "language": "python",
   "name": "python3"
  },
  "language_info": {
   "codemirror_mode": {
    "name": "ipython",
    "version": 3
   },
   "file_extension": ".py",
   "mimetype": "text/x-python",
   "name": "python",
   "nbconvert_exporter": "python",
   "pygments_lexer": "ipython3",
   "version": "3.9.7"
  }
 },
 "nbformat": 4,
 "nbformat_minor": 5
}
